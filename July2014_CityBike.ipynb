{
 "cells": [
  {
   "cell_type": "markdown",
   "metadata": {},
   "source": [
    "# Citi Bike Data Analysis\n",
    "---\n",
    "### Basic Statistics And Pre Production for Tableau Data Analysis\n",
    "\n",
    "**Module 18**"
   ]
  },
  {
   "cell_type": "code",
   "execution_count": 1,
   "metadata": {},
   "outputs": [],
   "source": [
    "# Dependencies and Setup\n",
    "import pandas as pd\n",
    "from pathlib import Path\n",
    "import numpy as np"
   ]
  },
  {
   "cell_type": "markdown",
   "metadata": {},
   "source": [
    "I decided to work with one of the busiest months of 2024: July and create a comparison with data from 2014 for the same month. This is a cleaning July 2014 process"
   ]
  },
  {
   "cell_type": "markdown",
   "metadata": {},
   "source": [
    "### 2014"
   ]
  },
  {
   "cell_type": "code",
   "execution_count": 2,
   "metadata": {},
   "outputs": [],
   "source": [
    "#Import csv file \n",
    "jul2014_data = Path(\"Resources/2014/7_July/201407-citibike-tripdata_1.csv\")\n",
    "\n",
    "# Read the data\n",
    "jul2014_df = pd.read_csv(jul2014_data)"
   ]
  },
  {
   "cell_type": "code",
   "execution_count": 3,
   "metadata": {},
   "outputs": [
    {
     "name": "stdout",
     "output_type": "stream",
     "text": [
      "<class 'pandas.core.frame.DataFrame'>\n",
      "RangeIndex: 968842 entries, 0 to 968841\n",
      "Data columns (total 15 columns):\n",
      " #   Column                   Non-Null Count   Dtype  \n",
      "---  ------                   --------------   -----  \n",
      " 0   tripduration             968842 non-null  int64  \n",
      " 1   starttime                968842 non-null  object \n",
      " 2   stoptime                 968842 non-null  object \n",
      " 3   start station id         968842 non-null  int64  \n",
      " 4   start station name       968842 non-null  object \n",
      " 5   start station latitude   968842 non-null  float64\n",
      " 6   start station longitude  968842 non-null  float64\n",
      " 7   end station id           968842 non-null  int64  \n",
      " 8   end station name         968842 non-null  object \n",
      " 9   end station latitude     968842 non-null  float64\n",
      " 10  end station longitude    968842 non-null  float64\n",
      " 11  bikeid                   968842 non-null  int64  \n",
      " 12  usertype                 968842 non-null  object \n",
      " 13  birth year               968842 non-null  object \n",
      " 14  gender                   968842 non-null  int64  \n",
      "dtypes: float64(4), int64(5), object(6)\n",
      "memory usage: 110.9+ MB\n"
     ]
    }
   ],
   "source": [
    "# Display the data table for preview July 2014\n",
    "jul2014_df.info()"
   ]
  },
  {
   "cell_type": "markdown",
   "metadata": {},
   "source": [
    "July 2014 - no Null or NaNs"
   ]
  },
  {
   "cell_type": "markdown",
   "metadata": {},
   "source": [
    "----"
   ]
  },
  {
   "cell_type": "markdown",
   "metadata": {},
   "source": [
    "## CLEANING    DATA"
   ]
  },
  {
   "cell_type": "markdown",
   "metadata": {},
   "source": [
    "---"
   ]
  },
  {
   "cell_type": "code",
   "execution_count": 4,
   "metadata": {},
   "outputs": [
    {
     "name": "stdout",
     "output_type": "stream",
     "text": [
      "<class 'pandas.core.frame.DataFrame'>\n",
      "RangeIndex: 968842 entries, 0 to 968841\n",
      "Data columns (total 15 columns):\n",
      " #   Column                   Non-Null Count   Dtype         \n",
      "---  ------                   --------------   -----         \n",
      " 0   tripduration             968842 non-null  int64         \n",
      " 1   starttime                968842 non-null  datetime64[ns]\n",
      " 2   stoptime                 968842 non-null  datetime64[ns]\n",
      " 3   start station id         968842 non-null  int64         \n",
      " 4   start station name       968842 non-null  object        \n",
      " 5   start station latitude   968842 non-null  float64       \n",
      " 6   start station longitude  968842 non-null  float64       \n",
      " 7   end station id           968842 non-null  int64         \n",
      " 8   end station name         968842 non-null  object        \n",
      " 9   end station latitude     968842 non-null  float64       \n",
      " 10  end station longitude    968842 non-null  float64       \n",
      " 11  bikeid                   968842 non-null  int64         \n",
      " 12  usertype                 968842 non-null  object        \n",
      " 13  birth year               968842 non-null  object        \n",
      " 14  gender                   968842 non-null  int64         \n",
      "dtypes: datetime64[ns](2), float64(4), int64(5), object(4)\n",
      "memory usage: 110.9+ MB\n"
     ]
    }
   ],
   "source": [
    "#our colums starttime and stoptime are 'object' \n",
    "# we need it to be in datetime format\n",
    "Jul2014_df_edt=jul2014_df.copy()\n",
    "Jul2014_df_edt[\"starttime\"] = pd.to_datetime(Jul2014_df_edt[\"starttime\"])\n",
    "Jul2014_df_edt[\"stoptime\"] = pd.to_datetime(Jul2014_df_edt[\"stoptime\"])\n",
    "Jul2014_df_edt.info()"
   ]
  },
  {
   "cell_type": "code",
   "execution_count": 5,
   "metadata": {},
   "outputs": [
    {
     "name": "stdout",
     "output_type": "stream",
     "text": [
      "            starttime            stoptime\n",
      "0 2014-07-01 00:00:04 2014-07-01 00:06:48\n",
      "1 2014-07-01 00:00:06 2014-07-01 00:14:16\n",
      "2 2014-07-01 00:00:21 2014-07-01 00:26:11\n",
      "3 2014-07-01 00:00:29 2014-07-01 00:07:06\n",
      "4 2014-07-01 00:00:37 2014-07-01 00:10:46\n",
      "5 2014-07-01 00:01:09 2014-07-01 00:38:34\n",
      "6 2014-07-01 00:01:15 2014-07-01 00:23:18\n",
      "7 2014-07-01 00:01:16 2014-07-01 00:06:36\n",
      "8 2014-07-01 00:01:18 2014-07-01 00:41:48\n",
      "9 2014-07-01 00:01:21 2014-07-01 00:13:01\n"
     ]
    }
   ],
   "source": [
    "#checking the output for our starttime and endtime columns \n",
    "print(Jul2014_df_edt[['starttime', 'stoptime']].head(10))"
   ]
  },
  {
   "cell_type": "code",
   "execution_count": 6,
   "metadata": {},
   "outputs": [
    {
     "data": {
      "text/html": [
       "<div>\n",
       "<style scoped>\n",
       "    .dataframe tbody tr th:only-of-type {\n",
       "        vertical-align: middle;\n",
       "    }\n",
       "\n",
       "    .dataframe tbody tr th {\n",
       "        vertical-align: top;\n",
       "    }\n",
       "\n",
       "    .dataframe thead th {\n",
       "        text-align: right;\n",
       "    }\n",
       "</style>\n",
       "<table border=\"1\" class=\"dataframe\">\n",
       "  <thead>\n",
       "    <tr style=\"text-align: right;\">\n",
       "      <th></th>\n",
       "      <th>starttime</th>\n",
       "      <th>stoptime</th>\n",
       "      <th>tripduration</th>\n",
       "      <th>tripduration_minutes</th>\n",
       "    </tr>\n",
       "  </thead>\n",
       "  <tbody>\n",
       "    <tr>\n",
       "      <th>0</th>\n",
       "      <td>2014-07-01 00:00:04</td>\n",
       "      <td>2014-07-01 00:06:48</td>\n",
       "      <td>0 days 00:06:44</td>\n",
       "      <td>6.73</td>\n",
       "    </tr>\n",
       "    <tr>\n",
       "      <th>1</th>\n",
       "      <td>2014-07-01 00:00:06</td>\n",
       "      <td>2014-07-01 00:14:16</td>\n",
       "      <td>0 days 00:14:10</td>\n",
       "      <td>14.17</td>\n",
       "    </tr>\n",
       "    <tr>\n",
       "      <th>2</th>\n",
       "      <td>2014-07-01 00:00:21</td>\n",
       "      <td>2014-07-01 00:26:11</td>\n",
       "      <td>0 days 00:25:50</td>\n",
       "      <td>25.83</td>\n",
       "    </tr>\n",
       "    <tr>\n",
       "      <th>3</th>\n",
       "      <td>2014-07-01 00:00:29</td>\n",
       "      <td>2014-07-01 00:07:06</td>\n",
       "      <td>0 days 00:06:37</td>\n",
       "      <td>6.62</td>\n",
       "    </tr>\n",
       "    <tr>\n",
       "      <th>4</th>\n",
       "      <td>2014-07-01 00:00:37</td>\n",
       "      <td>2014-07-01 00:10:46</td>\n",
       "      <td>0 days 00:10:09</td>\n",
       "      <td>10.15</td>\n",
       "    </tr>\n",
       "    <tr>\n",
       "      <th>5</th>\n",
       "      <td>2014-07-01 00:01:09</td>\n",
       "      <td>2014-07-01 00:38:34</td>\n",
       "      <td>0 days 00:37:25</td>\n",
       "      <td>37.42</td>\n",
       "    </tr>\n",
       "    <tr>\n",
       "      <th>6</th>\n",
       "      <td>2014-07-01 00:01:15</td>\n",
       "      <td>2014-07-01 00:23:18</td>\n",
       "      <td>0 days 00:22:03</td>\n",
       "      <td>22.05</td>\n",
       "    </tr>\n",
       "    <tr>\n",
       "      <th>7</th>\n",
       "      <td>2014-07-01 00:01:16</td>\n",
       "      <td>2014-07-01 00:06:36</td>\n",
       "      <td>0 days 00:05:20</td>\n",
       "      <td>5.33</td>\n",
       "    </tr>\n",
       "    <tr>\n",
       "      <th>8</th>\n",
       "      <td>2014-07-01 00:01:18</td>\n",
       "      <td>2014-07-01 00:41:48</td>\n",
       "      <td>0 days 00:40:30</td>\n",
       "      <td>40.50</td>\n",
       "    </tr>\n",
       "    <tr>\n",
       "      <th>9</th>\n",
       "      <td>2014-07-01 00:01:21</td>\n",
       "      <td>2014-07-01 00:13:01</td>\n",
       "      <td>0 days 00:11:40</td>\n",
       "      <td>11.67</td>\n",
       "    </tr>\n",
       "  </tbody>\n",
       "</table>\n",
       "</div>"
      ],
      "text/plain": [
       "            starttime            stoptime    tripduration  \\\n",
       "0 2014-07-01 00:00:04 2014-07-01 00:06:48 0 days 00:06:44   \n",
       "1 2014-07-01 00:00:06 2014-07-01 00:14:16 0 days 00:14:10   \n",
       "2 2014-07-01 00:00:21 2014-07-01 00:26:11 0 days 00:25:50   \n",
       "3 2014-07-01 00:00:29 2014-07-01 00:07:06 0 days 00:06:37   \n",
       "4 2014-07-01 00:00:37 2014-07-01 00:10:46 0 days 00:10:09   \n",
       "5 2014-07-01 00:01:09 2014-07-01 00:38:34 0 days 00:37:25   \n",
       "6 2014-07-01 00:01:15 2014-07-01 00:23:18 0 days 00:22:03   \n",
       "7 2014-07-01 00:01:16 2014-07-01 00:06:36 0 days 00:05:20   \n",
       "8 2014-07-01 00:01:18 2014-07-01 00:41:48 0 days 00:40:30   \n",
       "9 2014-07-01 00:01:21 2014-07-01 00:13:01 0 days 00:11:40   \n",
       "\n",
       "   tripduration_minutes  \n",
       "0                  6.73  \n",
       "1                 14.17  \n",
       "2                 25.83  \n",
       "3                  6.62  \n",
       "4                 10.15  \n",
       "5                 37.42  \n",
       "6                 22.05  \n",
       "7                  5.33  \n",
       "8                 40.50  \n",
       "9                 11.67  "
      ]
     },
     "execution_count": 6,
     "metadata": {},
     "output_type": "execute_result"
    }
   ],
   "source": [
    "# Now, Let's calculate duration in minutes. we recalculate this column \n",
    "# as duration in seconds that we originaly had it is really hard to understand \n",
    "\n",
    "Jul2014_df_edt['tripduration'] = (\n",
    "    Jul2014_df_edt['stoptime'] - Jul2014_df_edt['starttime']\n",
    ")\n",
    "\n",
    "Jul2014_df_edt['tripduration_minutes'] = (\n",
    "    Jul2014_df_edt['tripduration'].dt.total_seconds() / 60\n",
    ").round(2)\n",
    "\n",
    "# Check the result\n",
    "Jul2014_df_edt[['starttime', 'stoptime', 'tripduration','tripduration_minutes']].head(10)"
   ]
  },
  {
   "cell_type": "code",
   "execution_count": 7,
   "metadata": {},
   "outputs": [
    {
     "name": "stdout",
     "output_type": "stream",
     "text": [
      "<class 'pandas.core.frame.DataFrame'>\n",
      "RangeIndex: 968842 entries, 0 to 968841\n",
      "Data columns (total 16 columns):\n",
      " #   Column                   Non-Null Count   Dtype          \n",
      "---  ------                   --------------   -----          \n",
      " 0   tripduration             968842 non-null  timedelta64[ns]\n",
      " 1   starttime                968842 non-null  datetime64[ns] \n",
      " 2   stoptime                 968842 non-null  datetime64[ns] \n",
      " 3   start station id         968842 non-null  int64          \n",
      " 4   start station name       968842 non-null  object         \n",
      " 5   start station latitude   968842 non-null  float64        \n",
      " 6   start station longitude  968842 non-null  float64        \n",
      " 7   end station id           968842 non-null  int64          \n",
      " 8   end station name         968842 non-null  object         \n",
      " 9   end station latitude     968842 non-null  float64        \n",
      " 10  end station longitude    968842 non-null  float64        \n",
      " 11  bikeid                   968842 non-null  int64          \n",
      " 12  usertype                 968842 non-null  object         \n",
      " 13  birth year               968842 non-null  object         \n",
      " 14  gender                   968842 non-null  int64          \n",
      " 15  tripduration_minutes     968842 non-null  float64        \n",
      "dtypes: datetime64[ns](2), float64(5), int64(4), object(4), timedelta64[ns](1)\n",
      "memory usage: 118.3+ MB\n"
     ]
    }
   ],
   "source": [
    "#re-Checking data format for all columns\n",
    "Jul2014_df_edt.info()"
   ]
  },
  {
   "cell_type": "code",
   "execution_count": 8,
   "metadata": {},
   "outputs": [
    {
     "data": {
      "text/html": [
       "<div>\n",
       "<style scoped>\n",
       "    .dataframe tbody tr th:only-of-type {\n",
       "        vertical-align: middle;\n",
       "    }\n",
       "\n",
       "    .dataframe tbody tr th {\n",
       "        vertical-align: top;\n",
       "    }\n",
       "\n",
       "    .dataframe thead th {\n",
       "        text-align: right;\n",
       "    }\n",
       "</style>\n",
       "<table border=\"1\" class=\"dataframe\">\n",
       "  <thead>\n",
       "    <tr style=\"text-align: right;\">\n",
       "      <th></th>\n",
       "      <th>tripduration</th>\n",
       "      <th>starttime</th>\n",
       "      <th>stoptime</th>\n",
       "      <th>start station id</th>\n",
       "      <th>start station name</th>\n",
       "      <th>start station latitude</th>\n",
       "      <th>start station longitude</th>\n",
       "      <th>end station id</th>\n",
       "      <th>end station name</th>\n",
       "      <th>end station latitude</th>\n",
       "      <th>end station longitude</th>\n",
       "      <th>bikeid</th>\n",
       "      <th>usertype</th>\n",
       "      <th>birth year</th>\n",
       "      <th>gender</th>\n",
       "      <th>tripduration_minutes</th>\n",
       "    </tr>\n",
       "  </thead>\n",
       "  <tbody>\n",
       "    <tr>\n",
       "      <th>0</th>\n",
       "      <td>0 days 00:06:44</td>\n",
       "      <td>2014-07-01 00:00:04</td>\n",
       "      <td>2014-07-01 00:06:48</td>\n",
       "      <td>545</td>\n",
       "      <td>E 23 St &amp; 1 Ave</td>\n",
       "      <td>40.736502</td>\n",
       "      <td>-73.978095</td>\n",
       "      <td>402</td>\n",
       "      <td>Broadway &amp; E 22 St</td>\n",
       "      <td>40.740343</td>\n",
       "      <td>-73.989551</td>\n",
       "      <td>19578</td>\n",
       "      <td>Subscriber</td>\n",
       "      <td>1987</td>\n",
       "      <td>2</td>\n",
       "      <td>6.73</td>\n",
       "    </tr>\n",
       "    <tr>\n",
       "      <th>1</th>\n",
       "      <td>0 days 00:14:10</td>\n",
       "      <td>2014-07-01 00:00:06</td>\n",
       "      <td>2014-07-01 00:14:16</td>\n",
       "      <td>238</td>\n",
       "      <td>Bank St &amp; Washington St</td>\n",
       "      <td>40.736197</td>\n",
       "      <td>-74.008592</td>\n",
       "      <td>458</td>\n",
       "      <td>11 Ave &amp; W 27 St</td>\n",
       "      <td>40.751396</td>\n",
       "      <td>-74.005226</td>\n",
       "      <td>19224</td>\n",
       "      <td>Subscriber</td>\n",
       "      <td>1987</td>\n",
       "      <td>1</td>\n",
       "      <td>14.17</td>\n",
       "    </tr>\n",
       "    <tr>\n",
       "      <th>2</th>\n",
       "      <td>0 days 00:25:50</td>\n",
       "      <td>2014-07-01 00:00:21</td>\n",
       "      <td>2014-07-01 00:26:11</td>\n",
       "      <td>223</td>\n",
       "      <td>W 13 St &amp; 7 Ave</td>\n",
       "      <td>40.737815</td>\n",
       "      <td>-73.999947</td>\n",
       "      <td>539</td>\n",
       "      <td>Metropolitan Ave &amp; Bedford Ave</td>\n",
       "      <td>40.715348</td>\n",
       "      <td>-73.960241</td>\n",
       "      <td>17627</td>\n",
       "      <td>Subscriber</td>\n",
       "      <td>1973</td>\n",
       "      <td>2</td>\n",
       "      <td>25.83</td>\n",
       "    </tr>\n",
       "    <tr>\n",
       "      <th>3</th>\n",
       "      <td>0 days 00:06:37</td>\n",
       "      <td>2014-07-01 00:00:29</td>\n",
       "      <td>2014-07-01 00:07:06</td>\n",
       "      <td>224</td>\n",
       "      <td>Spruce St &amp; Nassau St</td>\n",
       "      <td>40.711464</td>\n",
       "      <td>-74.005524</td>\n",
       "      <td>2008</td>\n",
       "      <td>Little West St &amp; 1 Pl</td>\n",
       "      <td>40.705693</td>\n",
       "      <td>-74.016777</td>\n",
       "      <td>15304</td>\n",
       "      <td>Subscriber</td>\n",
       "      <td>1982</td>\n",
       "      <td>1</td>\n",
       "      <td>6.62</td>\n",
       "    </tr>\n",
       "    <tr>\n",
       "      <th>4</th>\n",
       "      <td>0 days 00:10:09</td>\n",
       "      <td>2014-07-01 00:00:37</td>\n",
       "      <td>2014-07-01 00:10:46</td>\n",
       "      <td>346</td>\n",
       "      <td>Bank St &amp; Hudson St</td>\n",
       "      <td>40.736529</td>\n",
       "      <td>-74.006180</td>\n",
       "      <td>521</td>\n",
       "      <td>8 Ave &amp; W 31 St</td>\n",
       "      <td>40.750450</td>\n",
       "      <td>-73.994811</td>\n",
       "      <td>20062</td>\n",
       "      <td>Subscriber</td>\n",
       "      <td>1972</td>\n",
       "      <td>2</td>\n",
       "      <td>10.15</td>\n",
       "    </tr>\n",
       "  </tbody>\n",
       "</table>\n",
       "</div>"
      ],
      "text/plain": [
       "     tripduration           starttime            stoptime  start station id  \\\n",
       "0 0 days 00:06:44 2014-07-01 00:00:04 2014-07-01 00:06:48               545   \n",
       "1 0 days 00:14:10 2014-07-01 00:00:06 2014-07-01 00:14:16               238   \n",
       "2 0 days 00:25:50 2014-07-01 00:00:21 2014-07-01 00:26:11               223   \n",
       "3 0 days 00:06:37 2014-07-01 00:00:29 2014-07-01 00:07:06               224   \n",
       "4 0 days 00:10:09 2014-07-01 00:00:37 2014-07-01 00:10:46               346   \n",
       "\n",
       "        start station name  start station latitude  start station longitude  \\\n",
       "0          E 23 St & 1 Ave               40.736502               -73.978095   \n",
       "1  Bank St & Washington St               40.736197               -74.008592   \n",
       "2          W 13 St & 7 Ave               40.737815               -73.999947   \n",
       "3    Spruce St & Nassau St               40.711464               -74.005524   \n",
       "4      Bank St & Hudson St               40.736529               -74.006180   \n",
       "\n",
       "   end station id                end station name  end station latitude  \\\n",
       "0             402              Broadway & E 22 St             40.740343   \n",
       "1             458                11 Ave & W 27 St             40.751396   \n",
       "2             539  Metropolitan Ave & Bedford Ave             40.715348   \n",
       "3            2008           Little West St & 1 Pl             40.705693   \n",
       "4             521                 8 Ave & W 31 St             40.750450   \n",
       "\n",
       "   end station longitude  bikeid    usertype birth year  gender  \\\n",
       "0             -73.989551   19578  Subscriber       1987       2   \n",
       "1             -74.005226   19224  Subscriber       1987       1   \n",
       "2             -73.960241   17627  Subscriber       1973       2   \n",
       "3             -74.016777   15304  Subscriber       1982       1   \n",
       "4             -73.994811   20062  Subscriber       1972       2   \n",
       "\n",
       "   tripduration_minutes  \n",
       "0                  6.73  \n",
       "1                 14.17  \n",
       "2                 25.83  \n",
       "3                  6.62  \n",
       "4                 10.15  "
      ]
     },
     "execution_count": 8,
     "metadata": {},
     "output_type": "execute_result"
    }
   ],
   "source": [
    "#Check the data\n",
    "Jul2014_df_edt.head()"
   ]
  },
  {
   "cell_type": "code",
   "execution_count": 9,
   "metadata": {},
   "outputs": [
    {
     "data": {
      "text/plain": [
       "array(['Subscriber', 'Customer'], dtype=object)"
      ]
     },
     "execution_count": 9,
     "metadata": {},
     "output_type": "execute_result"
    }
   ],
   "source": [
    "# let's check what do we have for 2014\n",
    "#in column \"usertype\"\n",
    "Jul2014_df_edt[\"usertype\"].unique()"
   ]
  },
  {
   "cell_type": "code",
   "execution_count": 10,
   "metadata": {},
   "outputs": [],
   "source": [
    "#renaming Subscriber to \"member\" and Customer to \"non-member\"\n",
    "Jul2014_df_edt['usertype'] = Jul2014_df_edt['usertype'].replace(\n",
    "    {'Subscriber': 'member', \n",
    "     'Customer': 'non-member'\n",
    "     })"
   ]
  },
  {
   "cell_type": "code",
   "execution_count": 11,
   "metadata": {},
   "outputs": [
    {
     "data": {
      "text/plain": [
       "array(['member', 'non-member'], dtype=object)"
      ]
     },
     "execution_count": 11,
     "metadata": {},
     "output_type": "execute_result"
    }
   ],
   "source": [
    "#checking the succsess \n",
    "Jul2014_df_edt[\"usertype\"].unique()"
   ]
  },
  {
   "cell_type": "code",
   "execution_count": 12,
   "metadata": {},
   "outputs": [
    {
     "data": {
      "text/plain": [
       "birth year\n",
       "\\N      119125\n",
       "1983     38660\n",
       "1984     37532\n",
       "1985     37287\n",
       "1986     35974\n",
       "         ...  \n",
       "1921         8\n",
       "1907         4\n",
       "1924         2\n",
       "1930         2\n",
       "1931         1\n",
       "Name: count, Length: 79, dtype: int64"
      ]
     },
     "execution_count": 12,
     "metadata": {},
     "output_type": "execute_result"
    }
   ],
   "source": [
    "#Check next column \"birth year\"\n",
    "Jul2014_df_edt[\"birth year\"].value_counts()"
   ]
  },
  {
   "cell_type": "markdown",
   "metadata": {},
   "source": [
    "we can see that birth year in a reality has no value as lots of data is missing or fake"
   ]
  },
  {
   "cell_type": "code",
   "execution_count": 13,
   "metadata": {},
   "outputs": [
    {
     "data": {
      "text/plain": [
       "gender\n",
       "1    647466\n",
       "2    202136\n",
       "0    119240\n",
       "Name: count, dtype: int64"
      ]
     },
     "execution_count": 13,
     "metadata": {},
     "output_type": "execute_result"
    }
   ],
   "source": [
    "#checking column \"gender\"\n",
    "#Gender (Zero=unknown; 1=male; 2=female)\n",
    "Jul2014_df_edt[\"gender\"].value_counts()"
   ]
  },
  {
   "cell_type": "markdown",
   "metadata": {},
   "source": [
    "as this column is missing in the 2024 dataset, and again: too much missing data. we just letting this column go"
   ]
  },
  {
   "cell_type": "code",
   "execution_count": 14,
   "metadata": {},
   "outputs": [
    {
     "data": {
      "text/plain": [
       "bikeid\n",
       "18429    339\n",
       "14814    333\n",
       "14657    331\n",
       "19159    322\n",
       "21637    322\n",
       "        ... \n",
       "14938      1\n",
       "19090      1\n",
       "17473      1\n",
       "16849      1\n",
       "15848      1\n",
       "Name: count, Length: 6204, dtype: int64"
      ]
     },
     "execution_count": 14,
     "metadata": {},
     "output_type": "execute_result"
    }
   ],
   "source": [
    "#Checking \"bikeid\" column\n",
    "Jul2014_df_edt[\"bikeid\"].value_counts()"
   ]
  },
  {
   "cell_type": "markdown",
   "metadata": {},
   "source": [
    "eventhough this data cold be interesting to see how many times per month was every bike used, we are not really interested in it this time "
   ]
  },
  {
   "cell_type": "code",
   "execution_count": 15,
   "metadata": {},
   "outputs": [
    {
     "name": "stdout",
     "output_type": "stream",
     "text": [
      "<class 'pandas.core.frame.DataFrame'>\n",
      "RangeIndex: 968842 entries, 0 to 968841\n",
      "Data columns (total 16 columns):\n",
      " #   Column                 Non-Null Count   Dtype          \n",
      "---  ------                 --------------   -----          \n",
      " 0   trip_duration          968842 non-null  timedelta64[ns]\n",
      " 1   start_time             968842 non-null  datetime64[ns] \n",
      " 2   end_time               968842 non-null  datetime64[ns] \n",
      " 3   start_station_id       968842 non-null  int64          \n",
      " 4   start_station_name     968842 non-null  object         \n",
      " 5   start_lat              968842 non-null  float64        \n",
      " 6   start_lng              968842 non-null  float64        \n",
      " 7   end_station_id         968842 non-null  int64          \n",
      " 8   end_station_name       968842 non-null  object         \n",
      " 9   end_lat                968842 non-null  float64        \n",
      " 10  end_lng                968842 non-null  float64        \n",
      " 11  bikeid                 968842 non-null  int64          \n",
      " 12  membership             968842 non-null  object         \n",
      " 13  birth year             968842 non-null  object         \n",
      " 14  gender                 968842 non-null  int64          \n",
      " 15  trip_duration_minutes  968842 non-null  float64        \n",
      "dtypes: datetime64[ns](2), float64(5), int64(4), object(4), timedelta64[ns](1)\n",
      "memory usage: 118.3+ MB\n"
     ]
    }
   ],
   "source": [
    "#Let's unify the titles for all columns\n",
    "Jul2014_df_edt.rename(columns={\n",
    "    'starttime': 'start_time',\n",
    "    'stoptime': 'end_time',\n",
    "    'tripduration': 'trip_duration',\n",
    "    'tripduration_minutes': 'trip_duration_minutes',\n",
    "    'start station name': 'start_station_name',\n",
    "    'start station id': 'start_station_id',\n",
    "    'end station name': 'end_station_name',\n",
    "    'end station id': 'end_station_id',\n",
    "    'start station latitude': 'start_lat',\n",
    "    'start station longitude': 'start_lng',\n",
    "    'end station latitude': 'end_lat',\n",
    "    'end station longitude': 'end_lng',\n",
    "    'usertype': 'membership'\n",
    "\n",
    " }, inplace=True)\n",
    "\n",
    "Jul2014_df_edt.info()"
   ]
  },
  {
   "cell_type": "code",
   "execution_count": 16,
   "metadata": {},
   "outputs": [
    {
     "data": {
      "text/plain": [
       "dtype('O')"
      ]
     },
     "execution_count": 16,
     "metadata": {},
     "output_type": "execute_result"
    }
   ],
   "source": [
    "#Also for this dataset we shall need a ride_ID but also we need it to be an 'object' data type\n",
    "#same as our ride_id in 2024 data \n",
    "Jul2014_df_edt[\"ride_id\"] = Jul2014_df_edt.index.astype(str) + \"l2014\"\n",
    "Jul2014_df_edt.dtypes[\"ride_id\"]"
   ]
  },
  {
   "cell_type": "code",
   "execution_count": 17,
   "metadata": {},
   "outputs": [
    {
     "name": "stdout",
     "output_type": "stream",
     "text": [
      "<class 'pandas.core.frame.DataFrame'>\n",
      "RangeIndex: 968842 entries, 0 to 968841\n",
      "Data columns (total 14 columns):\n",
      " #   Column                 Non-Null Count   Dtype          \n",
      "---  ------                 --------------   -----          \n",
      " 0   ride_id                968842 non-null  object         \n",
      " 1   start_station_id       968842 non-null  int64          \n",
      " 2   start_station_name     968842 non-null  object         \n",
      " 3   end_station_id         968842 non-null  int64          \n",
      " 4   end_station_name       968842 non-null  object         \n",
      " 5   start_time             968842 non-null  datetime64[ns] \n",
      " 6   end_time               968842 non-null  datetime64[ns] \n",
      " 7   trip_duration          968842 non-null  timedelta64[ns]\n",
      " 8   trip_duration_minutes  968842 non-null  float64        \n",
      " 9   membership             968842 non-null  object         \n",
      " 10  start_lat              968842 non-null  float64        \n",
      " 11  start_lng              968842 non-null  float64        \n",
      " 12  end_lat                968842 non-null  float64        \n",
      " 13  end_lng                968842 non-null  float64        \n",
      "dtypes: datetime64[ns](2), float64(5), int64(2), object(4), timedelta64[ns](1)\n",
      "memory usage: 103.5+ MB\n"
     ]
    }
   ],
   "source": [
    "#re-creating same df with columns we shall use in analysis\n",
    "Jul2014_df_edt = Jul2014_df_edt[[\n",
    "    'ride_id','start_station_id', 'start_station_name', 'end_station_id', 'end_station_name',\n",
    "    'start_time', 'end_time', 'trip_duration', 'trip_duration_minutes','membership',\n",
    "    'start_lat', 'start_lng','end_lat', 'end_lng',\n",
    "    \n",
    "]]\n",
    "Jul2014_df_edt.info()"
   ]
  },
  {
   "cell_type": "code",
   "execution_count": 18,
   "metadata": {},
   "outputs": [
    {
     "data": {
      "text/plain": [
       "start_lat    0\n",
       "start_lng    0\n",
       "end_lat      0\n",
       "end_lng      0\n",
       "dtype: int64"
      ]
     },
     "execution_count": 18,
     "metadata": {},
     "output_type": "execute_result"
    }
   ],
   "source": [
    "#Once again checking that we do not have missing points\n",
    "Jul2014_df_edt[[\"start_lat\", \"start_lng\", \"end_lat\", \"end_lng\"]].isnull().sum()"
   ]
  },
  {
   "cell_type": "markdown",
   "metadata": {},
   "source": [
    "### EXPORT CLEANED DATA"
   ]
  },
  {
   "cell_type": "code",
   "execution_count": 19,
   "metadata": {},
   "outputs": [],
   "source": [
    "#let's export our data for next step in tableau\n",
    "Jul2014_df_edt.to_csv(\"Output/bike_data_jul_2014.csv\", index=False)"
   ]
  }
 ],
 "metadata": {
  "anaconda-cloud": {},
  "kernelspec": {
   "display_name": "dev",
   "language": "python",
   "name": "python3"
  },
  "language_info": {
   "codemirror_mode": {
    "name": "ipython",
    "version": 3
   },
   "file_extension": ".py",
   "mimetype": "text/x-python",
   "name": "python",
   "nbconvert_exporter": "python",
   "pygments_lexer": "ipython3",
   "version": "3.10.14"
  }
 },
 "nbformat": 4,
 "nbformat_minor": 4
}
